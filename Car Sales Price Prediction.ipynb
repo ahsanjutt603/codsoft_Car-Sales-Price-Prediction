{
 "cells": [
  {
   "cell_type": "markdown",
   "metadata": {},
   "source": [
    "# Car Sales Price Prediction"
   ]
  },
  {
   "cell_type": "code",
   "execution_count": 25,
   "metadata": {},
   "outputs": [],
   "source": [
    "import pandas as pd\n",
    "import numpy as np\n",
    "\n",
    "import seaborn as sns\n",
    "import matplotlib.pyplot as plt\n",
    "\n",
    "from sklearn.model_selection import train_test_split\n",
    "\n",
    "from sklearn.preprocessing import MinMaxScaler\n",
    "\n",
    "from tensorflow.keras.layers import Dense\n",
    "from tensorflow.keras.models import Sequential\n",
    "\n",
    "from sklearn.preprocessing import LabelEncoder\n",
    "from sklearn.preprocessing import StandardScaler\n",
    "\n",
    "from sklearn.metrics import r2_score\n",
    "import warnings\n",
    "warnings.filterwarnings('ignore')"
   ]
  },
  {
   "cell_type": "markdown",
   "metadata": {},
   "source": [
    "# Load dataset"
   ]
  },
  {
   "cell_type": "code",
   "execution_count": 26,
   "metadata": {},
   "outputs": [
    {
     "data": {
      "text/html": [
       "<div>\n",
       "<style scoped>\n",
       "    .dataframe tbody tr th:only-of-type {\n",
       "        vertical-align: middle;\n",
       "    }\n",
       "\n",
       "    .dataframe tbody tr th {\n",
       "        vertical-align: top;\n",
       "    }\n",
       "\n",
       "    .dataframe thead th {\n",
       "        text-align: right;\n",
       "    }\n",
       "</style>\n",
       "<table border=\"1\" class=\"dataframe\">\n",
       "  <thead>\n",
       "    <tr style=\"text-align: right;\">\n",
       "      <th></th>\n",
       "      <th>customer name</th>\n",
       "      <th>customer e-mail</th>\n",
       "      <th>country</th>\n",
       "      <th>gender</th>\n",
       "      <th>age</th>\n",
       "      <th>annual Salary</th>\n",
       "      <th>credit card debt</th>\n",
       "      <th>net worth</th>\n",
       "      <th>car purchase amount</th>\n",
       "    </tr>\n",
       "  </thead>\n",
       "  <tbody>\n",
       "    <tr>\n",
       "      <th>0</th>\n",
       "      <td>Martina Avila</td>\n",
       "      <td>cubilia.Curae.Phasellus@quisaccumsanconvallis.edu</td>\n",
       "      <td>Bulgaria</td>\n",
       "      <td>0</td>\n",
       "      <td>41.851720</td>\n",
       "      <td>62812.09301</td>\n",
       "      <td>11609.380910</td>\n",
       "      <td>238961.2505</td>\n",
       "      <td>35321.45877</td>\n",
       "    </tr>\n",
       "    <tr>\n",
       "      <th>1</th>\n",
       "      <td>Harlan Barnes</td>\n",
       "      <td>eu.dolor@diam.co.uk</td>\n",
       "      <td>Belize</td>\n",
       "      <td>0</td>\n",
       "      <td>40.870623</td>\n",
       "      <td>66646.89292</td>\n",
       "      <td>9572.957136</td>\n",
       "      <td>530973.9078</td>\n",
       "      <td>45115.52566</td>\n",
       "    </tr>\n",
       "    <tr>\n",
       "      <th>2</th>\n",
       "      <td>Naomi Rodriquez</td>\n",
       "      <td>vulputate.mauris.sagittis@ametconsectetueradip...</td>\n",
       "      <td>Algeria</td>\n",
       "      <td>1</td>\n",
       "      <td>43.152897</td>\n",
       "      <td>53798.55112</td>\n",
       "      <td>11160.355060</td>\n",
       "      <td>638467.1773</td>\n",
       "      <td>42925.70921</td>\n",
       "    </tr>\n",
       "    <tr>\n",
       "      <th>3</th>\n",
       "      <td>Jade Cunningham</td>\n",
       "      <td>malesuada@dignissim.com</td>\n",
       "      <td>Cook Islands</td>\n",
       "      <td>1</td>\n",
       "      <td>58.271369</td>\n",
       "      <td>79370.03798</td>\n",
       "      <td>14426.164850</td>\n",
       "      <td>548599.0524</td>\n",
       "      <td>67422.36313</td>\n",
       "    </tr>\n",
       "    <tr>\n",
       "      <th>4</th>\n",
       "      <td>Cedric Leach</td>\n",
       "      <td>felis.ullamcorper.viverra@egetmollislectus.net</td>\n",
       "      <td>Brazil</td>\n",
       "      <td>1</td>\n",
       "      <td>57.313749</td>\n",
       "      <td>59729.15130</td>\n",
       "      <td>5358.712177</td>\n",
       "      <td>560304.0671</td>\n",
       "      <td>55915.46248</td>\n",
       "    </tr>\n",
       "  </tbody>\n",
       "</table>\n",
       "</div>"
      ],
      "text/plain": [
       "     customer name                                    customer e-mail  \\\n",
       "0    Martina Avila  cubilia.Curae.Phasellus@quisaccumsanconvallis.edu   \n",
       "1    Harlan Barnes                                eu.dolor@diam.co.uk   \n",
       "2  Naomi Rodriquez  vulputate.mauris.sagittis@ametconsectetueradip...   \n",
       "3  Jade Cunningham                            malesuada@dignissim.com   \n",
       "4     Cedric Leach     felis.ullamcorper.viverra@egetmollislectus.net   \n",
       "\n",
       "        country  gender        age  annual Salary  credit card debt  \\\n",
       "0      Bulgaria       0  41.851720    62812.09301      11609.380910   \n",
       "1        Belize       0  40.870623    66646.89292       9572.957136   \n",
       "2       Algeria       1  43.152897    53798.55112      11160.355060   \n",
       "3  Cook Islands       1  58.271369    79370.03798      14426.164850   \n",
       "4        Brazil       1  57.313749    59729.15130       5358.712177   \n",
       "\n",
       "     net worth  car purchase amount  \n",
       "0  238961.2505          35321.45877  \n",
       "1  530973.9078          45115.52566  \n",
       "2  638467.1773          42925.70921  \n",
       "3  548599.0524          67422.36313  \n",
       "4  560304.0671          55915.46248  "
      ]
     },
     "execution_count": 26,
     "metadata": {},
     "output_type": "execute_result"
    }
   ],
   "source": [
    "df= pd.read_csv(\"car_purchasing.csv\" ,encoding='ISO-8859-1')\n",
    "df.head()"
   ]
  },
  {
   "cell_type": "markdown",
   "metadata": {},
   "source": [
    "# Data preprocessing and visualization"
   ]
  },
  {
   "cell_type": "code",
   "execution_count": 27,
   "metadata": {},
   "outputs": [
    {
     "name": "stdout",
     "output_type": "stream",
     "text": [
      "<class 'pandas.core.frame.DataFrame'>\n",
      "RangeIndex: 500 entries, 0 to 499\n",
      "Data columns (total 9 columns):\n",
      " #   Column               Non-Null Count  Dtype  \n",
      "---  ------               --------------  -----  \n",
      " 0   customer name        500 non-null    object \n",
      " 1   customer e-mail      500 non-null    object \n",
      " 2   country              500 non-null    object \n",
      " 3   gender               500 non-null    int64  \n",
      " 4   age                  500 non-null    float64\n",
      " 5   annual Salary        500 non-null    float64\n",
      " 6   credit card debt     500 non-null    float64\n",
      " 7   net worth            500 non-null    float64\n",
      " 8   car purchase amount  500 non-null    float64\n",
      "dtypes: float64(5), int64(1), object(3)\n",
      "memory usage: 35.3+ KB\n"
     ]
    }
   ],
   "source": [
    "df.info()"
   ]
  },
  {
   "cell_type": "code",
   "execution_count": 28,
   "metadata": {},
   "outputs": [
    {
     "data": {
      "image/png": "[encoded data removed]",
      "text/plain": [
       "<Figure size 576x360 with 1 Axes>"
      ]
     },
     "metadata": {
      "needs_background": "light"
     },
     "output_type": "display_data"
    }
   ],
   "source": [
    "# Distribution of the target variable \"car purchase amount\" with custom colors\n",
    "plt.figure(figsize=(8, 5))\n",
    "sns.histplot(df[\"car purchase amount\"], bins=30, kde=True, color='blue')\n",
    "plt.title(\"Distribution of Car Purchase Amount\")\n",
    "plt.xlabel(\"Car Purchase Amount\")\n",
    "plt.ylabel(\"Frequency\")\n",
    "plt.show()"
   ]
  },
  {
   "cell_type": "code",
   "execution_count": 29,
   "metadata": {},
   "outputs": [
    {
     "data": {
      "image/png": "[encoded data removed]",
      "text/plain": [
       "<Figure size 576x432 with 1 Axes>"
      ]
     },
     "metadata": {
      "needs_background": "light"
     },
     "output_type": "display_data"
    }
   ],
   "source": [
    "# Countplot for the \"gender\" variable with custom colors for gender 0 and 1\n",
    "plt.figure(figsize=(8, 6))\n",
    "custom_palette = {0: \"blue\", 1: \"gold\"}  # Define custom colors for gender 0 and 1\n",
    "sns.countplot(data=df, x=\"gender\", palette=custom_palette)\n",
    "plt.title(\"Countplot of Gender\")\n",
    "plt.xlabel(\"Gender\")\n",
    "plt.ylabel(\"Count\")\n",
    "plt.show()"
   ]
  },
  {
   "cell_type": "code",
   "execution_count": 30,
   "metadata": {},
   "outputs": [],
   "source": [
    "df.drop(columns=['customer name', 'customer e-mail', 'country', 'gender'], inplace=True)"
   ]
  },
  {
   "cell_type": "code",
   "execution_count": 31,
   "metadata": {},
   "outputs": [
    {
     "name": "stdout",
     "output_type": "stream",
     "text": [
      "<class 'pandas.core.frame.DataFrame'>\n",
      "RangeIndex: 500 entries, 0 to 499\n",
      "Data columns (total 5 columns):\n",
      " #   Column               Non-Null Count  Dtype  \n",
      "---  ------               --------------  -----  \n",
      " 0   age                  500 non-null    float64\n",
      " 1   annual Salary        500 non-null    float64\n",
      " 2   credit card debt     500 non-null    float64\n",
      " 3   net worth            500 non-null    float64\n",
      " 4   car purchase amount  500 non-null    float64\n",
      "dtypes: float64(5)\n",
      "memory usage: 19.7 KB\n"
     ]
    }
   ],
   "source": [
    "df.info()"
   ]
  },
  {
   "cell_type": "code",
   "execution_count": 32,
   "metadata": {},
   "outputs": [],
   "source": [
    "X = df.drop('car purchase amount', axis=1)\n",
    "y = df['car purchase amount']"
   ]
  },
  {
   "cell_type": "code",
   "execution_count": 33,
   "metadata": {},
   "outputs": [
    {
     "data": {
      "text/plain": [
       "((500, 4), (500,))"
      ]
     },
     "execution_count": 33,
     "metadata": {},
     "output_type": "execute_result"
    }
   ],
   "source": [
    "X.shape,y.shape"
   ]
  },
  {
   "cell_type": "code",
   "execution_count": 34,
   "metadata": {},
   "outputs": [],
   "source": [
    "X_train, X_test, y_train, y_test = train_test_split(X, y, test_size=0.25, random_state=42)"
   ]
  },
  {
   "cell_type": "code",
   "execution_count": 35,
   "metadata": {},
   "outputs": [],
   "source": [
    "scaler = MinMaxScaler()\n",
    "X = scaler.fit_transform(X)\n",
    "y = scaler.fit_transform(y.values.reshape(-1, 1))"
   ]
  },
  {
   "cell_type": "code",
   "execution_count": 36,
   "metadata": {},
   "outputs": [
    {
     "name": "stdout",
     "output_type": "stream",
     "text": [
      "(400, 4)\n",
      "(400,)\n",
      "(100, 4)\n",
      "(100,)\n"
     ]
    }
   ],
   "source": [
    "print(X_train.shape)\n",
    "print(y_train.shape)\n",
    "print(X_test.shape)\n",
    "print(y_test.shape)"
   ]
  },
  {
   "cell_type": "markdown",
   "metadata": {},
   "source": [
    "# Model Training"
   ]
  },
  {
   "cell_type": "code",
   "execution_count": 37,
   "metadata": {},
   "outputs": [
    {
     "name": "stdout",
     "output_type": "stream",
     "text": [
      "Model: \"sequential_1\"\n",
      "_________________________________________________________________\n",
      " Layer (type)                Output Shape              Param #   \n",
      "=================================================================\n",
      " dense_3 (Dense)             (None, 10)                50        \n",
      "                                                                 \n",
      " dense_4 (Dense)             (None, 10)                110       \n",
      "                                                                 \n",
      " dense_5 (Dense)             (None, 1)                 11        \n",
      "                                                                 \n",
      "=================================================================\n",
      "Total params: 171\n",
      "Trainable params: 171\n",
      "Non-trainable params: 0\n",
      "_________________________________________________________________\n"
     ]
    }
   ],
   "source": [
    "model = Sequential()\n",
    "model.add(Dense(10, activation='relu', input_dim=4))\n",
    "model.add(Dense(10, activation='relu'))\n",
    "model.add(Dense(1, activation='linear'))\n",
    "\n",
    "model.compile(optimizer='adam', loss='mean_squared_error', metrics=['mean_absolute_error'])\n",
    "model.summary()"
   ]
  },
  {
   "cell_type": "code",
   "execution_count": 38,
   "metadata": {},
   "outputs": [
    {
     "name": "stdout",
     "output_type": "stream",
     "text": [
      "Model: \"sequential_1\"\n",
      "_________________________________________________________________\n",
      " Layer (type)                Output Shape              Param #   \n",
      "=================================================================\n",
      " dense_3 (Dense)             (None, 10)                50        \n",
      "                                                                 \n",
      " dense_4 (Dense)             (None, 10)                110       \n",
      "                                                                 \n",
      " dense_5 (Dense)             (None, 1)                 11        \n",
      "                                                                 \n",
      "=================================================================\n",
      "Total params: 171\n",
      "Trainable params: 171\n",
      "Non-trainable params: 0\n",
      "_________________________________________________________________\n"
     ]
    }
   ],
   "source": [
    "model.summary()"
   ]
  },
  {
   "cell_type": "code",
   "execution_count": 43,
   "metadata": {
    "scrolled": true
   },
   "outputs": [
    {
     "name": "stdout",
     "output_type": "stream",
     "text": [
      "Epoch 1/100\n",
      "7/7 [==============================] - 1s 33ms/step - loss: 52572712.0000 - mean_absolute_error: 5729.2290 - val_loss: 42794796.0000 - val_mean_absolute_error: 5448.1304\n",
      "Epoch 2/100\n",
      "7/7 [==============================] - 0s 12ms/step - loss: 52483000.0000 - mean_absolute_error: 5727.4048 - val_loss: 41790832.0000 - val_mean_absolute_error: 5412.4463\n",
      "Epoch 3/100\n",
      "7/7 [==============================] - 0s 11ms/step - loss: 52072256.0000 - mean_absolute_error: 5681.3906 - val_loss: 41929932.0000 - val_mean_absolute_error: 5418.2485\n",
      "Epoch 4/100\n",
      "7/7 [==============================] - 0s 10ms/step - loss: 52247368.0000 - mean_absolute_error: 5687.0557 - val_loss: 41972436.0000 - val_mean_absolute_error: 5419.9297\n",
      "Epoch 5/100\n",
      "7/7 [==============================] - 0s 11ms/step - loss: 52713804.0000 - mean_absolute_error: 5759.9165 - val_loss: 42708660.0000 - val_mean_absolute_error: 5447.1768\n",
      "Epoch 6/100\n",
      "7/7 [==============================] - 0s 9ms/step - loss: 52546184.0000 - mean_absolute_error: 5702.2920 - val_loss: 41744136.0000 - val_mean_absolute_error: 5413.1787\n",
      "Epoch 7/100\n",
      "7/7 [==============================] - 0s 11ms/step - loss: 51882572.0000 - mean_absolute_error: 5690.6704 - val_loss: 42502152.0000 - val_mean_absolute_error: 5437.6240\n",
      "Epoch 8/100\n",
      "7/7 [==============================] - 0s 10ms/step - loss: 51943128.0000 - mean_absolute_error: 5685.5693 - val_loss: 41759276.0000 - val_mean_absolute_error: 5411.2251\n",
      "Epoch 9/100\n",
      "7/7 [==============================] - 0s 10ms/step - loss: 51748748.0000 - mean_absolute_error: 5672.7114 - val_loss: 41974808.0000 - val_mean_absolute_error: 5417.9951\n",
      "Epoch 10/100\n",
      "7/7 [==============================] - 0s 10ms/step - loss: 51964356.0000 - mean_absolute_error: 5704.7402 - val_loss: 42444500.0000 - val_mean_absolute_error: 5434.0361\n",
      "Epoch 11/100\n",
      "7/7 [==============================] - 0s 10ms/step - loss: 51710260.0000 - mean_absolute_error: 5696.0410 - val_loss: 41695228.0000 - val_mean_absolute_error: 5412.3286\n",
      "Epoch 12/100\n",
      "7/7 [==============================] - 0s 11ms/step - loss: 51704196.0000 - mean_absolute_error: 5664.7280 - val_loss: 41918840.0000 - val_mean_absolute_error: 5416.9678\n",
      "Epoch 13/100\n",
      "7/7 [==============================] - 0s 11ms/step - loss: 51560196.0000 - mean_absolute_error: 5678.1572 - val_loss: 42182580.0000 - val_mean_absolute_error: 5427.6875\n",
      "Epoch 14/100\n",
      "7/7 [==============================] - 0s 11ms/step - loss: 51656232.0000 - mean_absolute_error: 5666.7334 - val_loss: 41829620.0000 - val_mean_absolute_error: 5415.7573\n",
      "Epoch 15/100\n",
      "7/7 [==============================] - 0s 11ms/step - loss: 51852688.0000 - mean_absolute_error: 5713.1587 - val_loss: 42186376.0000 - val_mean_absolute_error: 5429.2109\n",
      "Epoch 16/100\n",
      "7/7 [==============================] - 0s 12ms/step - loss: 51465288.0000 - mean_absolute_error: 5673.9814 - val_loss: 41953932.0000 - val_mean_absolute_error: 5420.8701\n",
      "Epoch 17/100\n",
      "7/7 [==============================] - 0s 11ms/step - loss: 51398408.0000 - mean_absolute_error: 5668.7275 - val_loss: 42326100.0000 - val_mean_absolute_error: 5433.8271\n",
      "Epoch 18/100\n",
      "7/7 [==============================] - 0s 12ms/step - loss: 51510372.0000 - mean_absolute_error: 5685.7998 - val_loss: 41996768.0000 - val_mean_absolute_error: 5422.0576\n",
      "Epoch 19/100\n",
      "7/7 [==============================] - 0s 10ms/step - loss: 51884540.0000 - mean_absolute_error: 5671.2715 - val_loss: 41805876.0000 - val_mean_absolute_error: 5426.7725\n",
      "Epoch 20/100\n",
      "7/7 [==============================] - 0s 10ms/step - loss: 51178660.0000 - mean_absolute_error: 5635.9634 - val_loss: 42759580.0000 - val_mean_absolute_error: 5447.3130\n",
      "Epoch 21/100\n",
      "7/7 [==============================] - 0s 10ms/step - loss: 51950412.0000 - mean_absolute_error: 5730.8125 - val_loss: 42367132.0000 - val_mean_absolute_error: 5433.0889\n",
      "Epoch 22/100\n",
      "7/7 [==============================] - 0s 10ms/step - loss: 51065644.0000 - mean_absolute_error: 5643.1553 - val_loss: 41695060.0000 - val_mean_absolute_error: 5414.0947\n",
      "Epoch 23/100\n",
      "7/7 [==============================] - 0s 10ms/step - loss: 51365536.0000 - mean_absolute_error: 5648.6919 - val_loss: 41768008.0000 - val_mean_absolute_error: 5410.2764\n",
      "Epoch 24/100\n",
      "7/7 [==============================] - 0s 10ms/step - loss: 51053080.0000 - mean_absolute_error: 5649.3149 - val_loss: 42108776.0000 - val_mean_absolute_error: 5420.3564\n",
      "Epoch 25/100\n",
      "7/7 [==============================] - 0s 10ms/step - loss: 51255512.0000 - mean_absolute_error: 5679.3604 - val_loss: 42081132.0000 - val_mean_absolute_error: 5418.1304\n",
      "Epoch 26/100\n",
      "7/7 [==============================] - 0s 8ms/step - loss: 51218860.0000 - mean_absolute_error: 5661.5562 - val_loss: 41562176.0000 - val_mean_absolute_error: 5407.8271\n",
      "Epoch 27/100\n",
      "7/7 [==============================] - 0s 10ms/step - loss: 51650356.0000 - mean_absolute_error: 5649.0732 - val_loss: 41552300.0000 - val_mean_absolute_error: 5402.3604\n",
      "Epoch 28/100\n",
      "7/7 [==============================] - 0s 11ms/step - loss: 51323992.0000 - mean_absolute_error: 5677.5122 - val_loss: 42542784.0000 - val_mean_absolute_error: 5433.8179\n",
      "Epoch 29/100\n",
      "7/7 [==============================] - 0s 11ms/step - loss: 51015808.0000 - mean_absolute_error: 5660.4478 - val_loss: 41598520.0000 - val_mean_absolute_error: 5399.7168\n",
      "Epoch 30/100\n",
      "7/7 [==============================] - 0s 16ms/step - loss: 50977960.0000 - mean_absolute_error: 5622.2573 - val_loss: 41572392.0000 - val_mean_absolute_error: 5412.6431\n",
      "Epoch 31/100\n",
      "7/7 [==============================] - 0s 13ms/step - loss: 51386196.0000 - mean_absolute_error: 5664.1338 - val_loss: 42053640.0000 - val_mean_absolute_error: 5413.0283\n",
      "Epoch 32/100\n",
      "7/7 [==============================] - 0s 13ms/step - loss: 50860004.0000 - mean_absolute_error: 5647.0015 - val_loss: 41620852.0000 - val_mean_absolute_error: 5398.9351\n",
      "Epoch 33/100\n",
      "7/7 [==============================] - 0s 14ms/step - loss: 51317264.0000 - mean_absolute_error: 5646.4854 - val_loss: 41470124.0000 - val_mean_absolute_error: 5396.4268\n",
      "Epoch 34/100\n",
      "7/7 [==============================] - 0s 14ms/step - loss: 50910828.0000 - mean_absolute_error: 5645.9238 - val_loss: 42507032.0000 - val_mean_absolute_error: 5430.2451\n",
      "Epoch 35/100\n",
      "7/7 [==============================] - 0s 12ms/step - loss: 50774212.0000 - mean_absolute_error: 5643.3467 - val_loss: 41500648.0000 - val_mean_absolute_error: 5397.3945\n",
      "Epoch 36/100\n",
      "7/7 [==============================] - 0s 14ms/step - loss: 50833524.0000 - mean_absolute_error: 5635.7754 - val_loss: 41682328.0000 - val_mean_absolute_error: 5398.8149\n",
      "Epoch 37/100\n",
      "7/7 [==============================] - 0s 11ms/step - loss: 50617280.0000 - mean_absolute_error: 5646.0400 - val_loss: 42564724.0000 - val_mean_absolute_error: 5431.9922\n",
      "Epoch 38/100\n",
      "7/7 [==============================] - 0s 11ms/step - loss: 51049252.0000 - mean_absolute_error: 5687.1572 - val_loss: 41714536.0000 - val_mean_absolute_error: 5399.7715\n",
      "Epoch 39/100\n",
      "7/7 [==============================] - 0s 11ms/step - loss: 51084984.0000 - mean_absolute_error: 5634.5249 - val_loss: 41545740.0000 - val_mean_absolute_error: 5410.1914\n",
      "Epoch 40/100\n",
      "7/7 [==============================] - 0s 10ms/step - loss: 51724272.0000 - mean_absolute_error: 5679.4165 - val_loss: 42290876.0000 - val_mean_absolute_error: 5416.3169\n",
      "Epoch 41/100\n",
      "7/7 [==============================] - 0s 12ms/step - loss: 50658928.0000 - mean_absolute_error: 5644.8916 - val_loss: 41384104.0000 - val_mean_absolute_error: 5393.2402\n",
      "Epoch 42/100\n",
      "7/7 [==============================] - 0s 10ms/step - loss: 50716328.0000 - mean_absolute_error: 5625.9360 - val_loss: 41447380.0000 - val_mean_absolute_error: 5388.3633\n",
      "Epoch 43/100\n",
      "7/7 [==============================] - 0s 10ms/step - loss: 50614132.0000 - mean_absolute_error: 5625.1680 - val_loss: 41824232.0000 - val_mean_absolute_error: 5396.3413\n",
      "Epoch 44/100\n",
      "7/7 [==============================] - 0s 10ms/step - loss: 50499504.0000 - mean_absolute_error: 5645.7417 - val_loss: 41514412.0000 - val_mean_absolute_error: 5388.1768\n",
      "Epoch 45/100\n",
      "7/7 [==============================] - 0s 10ms/step - loss: 50339348.0000 - mean_absolute_error: 5609.7002 - val_loss: 41413296.0000 - val_mean_absolute_error: 5390.8657\n"
     ]
    },
    {
     "name": "stdout",
     "output_type": "stream",
     "text": [
      "Epoch 46/100\n",
      "7/7 [==============================] - 0s 10ms/step - loss: 50465160.0000 - mean_absolute_error: 5615.8794 - val_loss: 41667104.0000 - val_mean_absolute_error: 5392.9365\n",
      "Epoch 47/100\n",
      "7/7 [==============================] - 0s 11ms/step - loss: 51082508.0000 - mean_absolute_error: 5705.0596 - val_loss: 42478792.0000 - val_mean_absolute_error: 5422.3501\n",
      "Epoch 48/100\n",
      "7/7 [==============================] - 0s 11ms/step - loss: 50443576.0000 - mean_absolute_error: 5616.0815 - val_loss: 41443528.0000 - val_mean_absolute_error: 5401.3936\n",
      "Epoch 49/100\n",
      "7/7 [==============================] - 0s 10ms/step - loss: 50570804.0000 - mean_absolute_error: 5622.1436 - val_loss: 42023468.0000 - val_mean_absolute_error: 5400.4897\n",
      "Epoch 50/100\n",
      "7/7 [==============================] - 0s 10ms/step - loss: 50293132.0000 - mean_absolute_error: 5632.1411 - val_loss: 41663480.0000 - val_mean_absolute_error: 5389.0327\n",
      "Epoch 51/100\n",
      "7/7 [==============================] - 0s 10ms/step - loss: 50268096.0000 - mean_absolute_error: 5631.1694 - val_loss: 41919552.0000 - val_mean_absolute_error: 5393.4048\n",
      "Epoch 52/100\n",
      "7/7 [==============================] - 0s 10ms/step - loss: 50370308.0000 - mean_absolute_error: 5651.3706 - val_loss: 41873040.0000 - val_mean_absolute_error: 5391.2983\n",
      "Epoch 53/100\n",
      "7/7 [==============================] - 0s 9ms/step - loss: 50065940.0000 - mean_absolute_error: 5620.8618 - val_loss: 41481152.0000 - val_mean_absolute_error: 5380.4048\n",
      "Epoch 54/100\n",
      "7/7 [==============================] - 0s 9ms/step - loss: 50180068.0000 - mean_absolute_error: 5607.6143 - val_loss: 41343624.0000 - val_mean_absolute_error: 5379.3218\n",
      "Epoch 55/100\n",
      "7/7 [==============================] - 0s 9ms/step - loss: 50000344.0000 - mean_absolute_error: 5598.0615 - val_loss: 41531764.0000 - val_mean_absolute_error: 5379.3096\n",
      "Epoch 56/100\n",
      "7/7 [==============================] - 0s 9ms/step - loss: 49949192.0000 - mean_absolute_error: 5607.3530 - val_loss: 41809560.0000 - val_mean_absolute_error: 5383.9111\n",
      "Epoch 57/100\n",
      "7/7 [==============================] - 0s 10ms/step - loss: 50092460.0000 - mean_absolute_error: 5636.8750 - val_loss: 41635560.0000 - val_mean_absolute_error: 5378.8682\n",
      "Epoch 58/100\n",
      "7/7 [==============================] - 0s 9ms/step - loss: 50974328.0000 - mean_absolute_error: 5654.1035 - val_loss: 41233664.0000 - val_mean_absolute_error: 5380.0288\n",
      "Epoch 59/100\n",
      "7/7 [==============================] - 0s 10ms/step - loss: 51192944.0000 - mean_absolute_error: 5683.2568 - val_loss: 42193832.0000 - val_mean_absolute_error: 5399.2563\n",
      "Epoch 60/100\n",
      "7/7 [==============================] - 0s 10ms/step - loss: 49816016.0000 - mean_absolute_error: 5608.2178 - val_loss: 41262104.0000 - val_mean_absolute_error: 5374.3374\n",
      "Epoch 61/100\n",
      "7/7 [==============================] - 0s 10ms/step - loss: 50084556.0000 - mean_absolute_error: 5608.8833 - val_loss: 41452352.0000 - val_mean_absolute_error: 5372.8135\n",
      "Epoch 62/100\n",
      "7/7 [==============================] - 0s 17ms/step - loss: 50408536.0000 - mean_absolute_error: 5612.4473 - val_loss: 41296072.0000 - val_mean_absolute_error: 5372.2266\n",
      "Epoch 63/100\n",
      "7/7 [==============================] - 0s 18ms/step - loss: 49906508.0000 - mean_absolute_error: 5604.2939 - val_loss: 42833240.0000 - val_mean_absolute_error: 5427.6768\n",
      "Epoch 64/100\n",
      "7/7 [==============================] - 0s 18ms/step - loss: 50278384.0000 - mean_absolute_error: 5633.9502 - val_loss: 41297940.0000 - val_mean_absolute_error: 5375.8779\n",
      "Epoch 65/100\n",
      "7/7 [==============================] - 0s 17ms/step - loss: 50302852.0000 - mean_absolute_error: 5621.6514 - val_loss: 41820376.0000 - val_mean_absolute_error: 5380.9131\n",
      "Epoch 66/100\n",
      "7/7 [==============================] - 0s 16ms/step - loss: 50169504.0000 - mean_absolute_error: 5622.2998 - val_loss: 41260612.0000 - val_mean_absolute_error: 5375.1880\n",
      "Epoch 67/100\n",
      "7/7 [==============================] - 0s 15ms/step - loss: 49579840.0000 - mean_absolute_error: 5597.0747 - val_loss: 42252040.0000 - val_mean_absolute_error: 5398.0459\n",
      "Epoch 68/100\n",
      "7/7 [==============================] - 0s 15ms/step - loss: 50162284.0000 - mean_absolute_error: 5651.4658 - val_loss: 41821144.0000 - val_mean_absolute_error: 5377.6470\n",
      "Epoch 69/100\n",
      "7/7 [==============================] - 0s 11ms/step - loss: 49809572.0000 - mean_absolute_error: 5625.1152 - val_loss: 41744908.0000 - val_mean_absolute_error: 5373.3384\n",
      "Epoch 70/100\n",
      "7/7 [==============================] - 0s 13ms/step - loss: 49777000.0000 - mean_absolute_error: 5605.4829 - val_loss: 41356056.0000 - val_mean_absolute_error: 5363.1431\n",
      "Epoch 71/100\n",
      "7/7 [==============================] - 0s 12ms/step - loss: 49791048.0000 - mean_absolute_error: 5610.4136 - val_loss: 41666048.0000 - val_mean_absolute_error: 5369.2959\n",
      "Epoch 72/100\n",
      "7/7 [==============================] - 0s 10ms/step - loss: 49520132.0000 - mean_absolute_error: 5591.5884 - val_loss: 41229136.0000 - val_mean_absolute_error: 5361.2593\n",
      "Epoch 73/100\n",
      "7/7 [==============================] - 0s 10ms/step - loss: 49852616.0000 - mean_absolute_error: 5620.3896 - val_loss: 41344392.0000 - val_mean_absolute_error: 5361.0601\n",
      "Epoch 74/100\n",
      "7/7 [==============================] - 0s 11ms/step - loss: 49742704.0000 - mean_absolute_error: 5599.7900 - val_loss: 41224920.0000 - val_mean_absolute_error: 5360.9854\n",
      "Epoch 75/100\n",
      "7/7 [==============================] - 0s 13ms/step - loss: 49480736.0000 - mean_absolute_error: 5588.3613 - val_loss: 41502776.0000 - val_mean_absolute_error: 5365.6519\n",
      "Epoch 76/100\n",
      "7/7 [==============================] - 0s 13ms/step - loss: 49446880.0000 - mean_absolute_error: 5590.8115 - val_loss: 41278052.0000 - val_mean_absolute_error: 5363.6538\n",
      "Epoch 77/100\n",
      "7/7 [==============================] - 0s 11ms/step - loss: 49522124.0000 - mean_absolute_error: 5589.6763 - val_loss: 41437192.0000 - val_mean_absolute_error: 5364.8989\n",
      "Epoch 78/100\n",
      "7/7 [==============================] - 0s 11ms/step - loss: 49473332.0000 - mean_absolute_error: 5603.5508 - val_loss: 41513144.0000 - val_mean_absolute_error: 5367.6484\n",
      "Epoch 79/100\n",
      "7/7 [==============================] - 0s 12ms/step - loss: 49574620.0000 - mean_absolute_error: 5602.5381 - val_loss: 41360264.0000 - val_mean_absolute_error: 5361.9233\n",
      "Epoch 80/100\n",
      "7/7 [==============================] - 0s 13ms/step - loss: 49450328.0000 - mean_absolute_error: 5590.9390 - val_loss: 41295496.0000 - val_mean_absolute_error: 5358.1211\n",
      "Epoch 81/100\n",
      "7/7 [==============================] - 0s 11ms/step - loss: 49802092.0000 - mean_absolute_error: 5611.2744 - val_loss: 41148688.0000 - val_mean_absolute_error: 5355.6895\n",
      "Epoch 82/100\n",
      "7/7 [==============================] - 0s 10ms/step - loss: 49479964.0000 - mean_absolute_error: 5589.7412 - val_loss: 42751156.0000 - val_mean_absolute_error: 5414.0728\n",
      "Epoch 83/100\n",
      "7/7 [==============================] - 0s 10ms/step - loss: 49697416.0000 - mean_absolute_error: 5631.9307 - val_loss: 41158024.0000 - val_mean_absolute_error: 5356.4771\n",
      "Epoch 84/100\n",
      "7/7 [==============================] - 0s 10ms/step - loss: 49411736.0000 - mean_absolute_error: 5584.4976 - val_loss: 41140040.0000 - val_mean_absolute_error: 5356.3022\n",
      "Epoch 85/100\n",
      "7/7 [==============================] - 0s 10ms/step - loss: 49162980.0000 - mean_absolute_error: 5582.5410 - val_loss: 41829580.0000 - val_mean_absolute_error: 5371.6914\n",
      "Epoch 86/100\n",
      "7/7 [==============================] - 0s 10ms/step - loss: 49540108.0000 - mean_absolute_error: 5619.8760 - val_loss: 41186572.0000 - val_mean_absolute_error: 5353.5947\n",
      "Epoch 87/100\n",
      "7/7 [==============================] - 0s 10ms/step - loss: 49326408.0000 - mean_absolute_error: 5586.7031 - val_loss: 41224268.0000 - val_mean_absolute_error: 5352.1826\n",
      "Epoch 88/100\n",
      "7/7 [==============================] - 0s 12ms/step - loss: 49266244.0000 - mean_absolute_error: 5583.3970 - val_loss: 41199336.0000 - val_mean_absolute_error: 5353.6416\n",
      "Epoch 89/100\n",
      "7/7 [==============================] - 0s 11ms/step - loss: 49410252.0000 - mean_absolute_error: 5590.5244 - val_loss: 41439540.0000 - val_mean_absolute_error: 5356.6211\n",
      "Epoch 90/100\n",
      "7/7 [==============================] - 0s 11ms/step - loss: 50721604.0000 - mean_absolute_error: 5715.1201 - val_loss: 42078100.0000 - val_mean_absolute_error: 5380.2598\n"
     ]
    },
    {
     "name": "stdout",
     "output_type": "stream",
     "text": [
      "Epoch 91/100\n",
      "7/7 [==============================] - 0s 10ms/step - loss: 51385392.0000 - mean_absolute_error: 5647.6064 - val_loss: 41548280.0000 - val_mean_absolute_error: 5395.4219\n",
      "Epoch 92/100\n",
      "7/7 [==============================] - 0s 10ms/step - loss: 49352712.0000 - mean_absolute_error: 5585.3530 - val_loss: 43254856.0000 - val_mean_absolute_error: 5430.3203\n",
      "Epoch 93/100\n",
      "7/7 [==============================] - 0s 11ms/step - loss: 50016104.0000 - mean_absolute_error: 5662.1812 - val_loss: 41203592.0000 - val_mean_absolute_error: 5358.4297\n",
      "Epoch 94/100\n",
      "7/7 [==============================] - 0s 11ms/step - loss: 49108040.0000 - mean_absolute_error: 5573.1377 - val_loss: 41806032.0000 - val_mean_absolute_error: 5367.8701\n",
      "Epoch 95/100\n",
      "7/7 [==============================] - 0s 10ms/step - loss: 49349820.0000 - mean_absolute_error: 5617.8281 - val_loss: 41545452.0000 - val_mean_absolute_error: 5358.5776\n",
      "Epoch 96/100\n",
      "7/7 [==============================] - 0s 10ms/step - loss: 48993420.0000 - mean_absolute_error: 5580.7974 - val_loss: 41165592.0000 - val_mean_absolute_error: 5356.8486\n",
      "Epoch 97/100\n",
      "7/7 [==============================] - 0s 10ms/step - loss: 49066600.0000 - mean_absolute_error: 5576.3550 - val_loss: 41193544.0000 - val_mean_absolute_error: 5353.3428\n",
      "Epoch 98/100\n",
      "7/7 [==============================] - 0s 18ms/step - loss: 49016776.0000 - mean_absolute_error: 5570.3325 - val_loss: 41353108.0000 - val_mean_absolute_error: 5352.4839\n",
      "Epoch 99/100\n",
      "7/7 [==============================] - 0s 17ms/step - loss: 49313040.0000 - mean_absolute_error: 5610.4287 - val_loss: 41417736.0000 - val_mean_absolute_error: 5354.0967\n",
      "Epoch 100/100\n",
      "7/7 [==============================] - 0s 16ms/step - loss: 49259400.0000 - mean_absolute_error: 5585.2471 - val_loss: 41114244.0000 - val_mean_absolute_error: 5361.9404\n"
     ]
    }
   ],
   "source": [
    "history = model.fit(X_train, y_train, epochs=50, validation_split=0.2)"
   ]
  },
  {
   "cell_type": "code",
   "execution_count": 44,
   "metadata": {},
   "outputs": [
    {
     "data": {
      "image/png": "[encoded data removed]",
      "text/plain": [
       "<Figure size 576x360 with 1 Axes>"
      ]
     },
     "metadata": {
      "needs_background": "light"
     },
     "output_type": "display_data"
    }
   ],
   "source": [
    "plt.figure(figsize=(8, 5))\n",
    "plt.plot(history.history['loss'], label='Training Loss' , color='red')\n",
    "plt.plot(history.history['val_loss'], label='Validation Loss' , color='gold')\n",
    "plt.title('Loss vs. Epochs')\n",
    "plt.xlabel('Epochs')\n",
    "plt.ylabel('Loss')\n",
    "plt.legend()\n",
    "plt.show()"
   ]
  },
  {
   "cell_type": "code",
   "execution_count": 45,
   "metadata": {},
   "outputs": [
    {
     "name": "stdout",
     "output_type": "stream",
     "text": [
      "4/4 [==============================] - 0s 3ms/step\n"
     ]
    }
   ],
   "source": [
    "y_pred = model.predict(X_test)"
   ]
  },
  {
   "cell_type": "code",
   "execution_count": 46,
   "metadata": {},
   "outputs": [
    {
     "name": "stdout",
     "output_type": "stream",
     "text": [
      "R2 Score= 0.5929018840000764\n"
     ]
    }
   ],
   "source": [
    "R2 = r2_score(y_test, y_pred)\n",
    "print(\"R2 Score=\",R2 )"
   ]
  }
 ],
 "metadata": {
  "kernelspec": {
   "display_name": "Python 3",
   "language": "python",
   "name": "python3"
  },
  "language_info": {
   "codemirror_mode": {
    "name": "ipython",
    "version": 3
   },
   "file_extension": ".py",
   "mimetype": "text/x-python",
   "name": "python",
   "nbconvert_exporter": "python",
   "pygments_lexer": "ipython3",
   "version": "3.7.3"
  }
 },
 "nbformat": 4,
 "nbformat_minor": 2
}
